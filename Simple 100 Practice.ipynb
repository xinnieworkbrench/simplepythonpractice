{
 "cells": [
  {
   "cell_type": "code",
   "execution_count": 37,
   "id": "4a6acd2c-7856-4571-b9bf-bf4e2e6a3b66",
   "metadata": {},
   "outputs": [
    {
     "name": "stdout",
     "output_type": "stream",
     "text": [
      "-H<|Yn4!4t\n"
     ]
    }
   ],
   "source": [
    "import random\n",
    "import string \n",
    "\n",
    "def generate_password(length):\n",
    "    \"\"\"This function is used to generate a random password of a given length using a variety \n",
    "    of a combination of uppercase letters, lowercase letters, digits and special characters\"\"\"\n",
    "\n",
    "    all_chars = string.ascii_letters + string.digits + string.punctuation\n",
    "    \n",
    "    password = \"\".join(random.choice(all_chars) for i in range(length))\n",
    "\n",
    "    return password\n",
    "\n",
    "# Test the function by generating a password of length 10\n",
    "password = generate_password(10)\n",
    "print(password)\n",
    "\n",
    "\n"
   ]
  },
  {
   "cell_type": "code",
   "execution_count": null,
   "id": "6409aefe-f69e-4d15-98dd-630aa3afe5e5",
   "metadata": {},
   "outputs": [],
   "source": []
  },
  {
   "cell_type": "code",
   "execution_count": null,
   "id": "ebce5401-571a-4b75-99e6-e809babf6718",
   "metadata": {},
   "outputs": [],
   "source": []
  },
  {
   "cell_type": "code",
   "execution_count": 15,
   "id": "9074b953-cb69-45c8-a098-a1858fb00c6a",
   "metadata": {},
   "outputs": [
    {
     "name": "stdout",
     "output_type": "stream",
     "text": [
      "Hello, friends!\n"
     ]
    }
   ],
   "source": [
    "print('Hello, friends!')\n",
    "\n"
   ]
  },
  {
   "cell_type": "code",
   "execution_count": 17,
   "id": "2038e420-dc05-4385-a5bd-91dd3ed4a7bd",
   "metadata": {},
   "outputs": [
    {
     "name": "stdout",
     "output_type": "stream",
     "text": [
      "The sum of 15 and 6.3 is 21.3\n"
     ]
    }
   ],
   "source": [
    "# How to add two numbers together\n",
    "num1 = 15\n",
    "num2 = 6.3\n",
    "\n",
    "# Add two numbers \n",
    "sum = num1 + num2\n",
    "\n",
    "# To display the sum \n",
    "print ('The sum of {0} and {1} is {2}'. format(num1, num2, sum))"
   ]
  },
  {
   "cell_type": "code",
   "execution_count": 21,
   "id": "be580446-e88e-42b1-94ae-e69271704e2d",
   "metadata": {},
   "outputs": [
    {
     "name": "stdin",
     "output_type": "stream",
     "text": [
      "Enter first number: 6.3\n",
      "Enter second number: 4.7\n"
     ]
    },
    {
     "name": "stdout",
     "output_type": "stream",
     "text": [
      "The sum of 6.3 and 4.7 is 11.0\n"
     ]
    }
   ],
   "source": [
    "num1 = input('Enter first number:')\n",
    "num2 = input('Enter second number:')\n",
    "\n",
    "sum = float(num1) + float(num2)\n",
    "\n",
    "print ('The sum of {0} and {1} is {2}'.format (num1, num2, sum))"
   ]
  },
  {
   "cell_type": "code",
   "execution_count": 23,
   "id": "d9a82421-790c-40c4-bf65-916e49362a4d",
   "metadata": {},
   "outputs": [
    {
     "name": "stdout",
     "output_type": "stream",
     "text": [
      "5\n"
     ]
    }
   ],
   "source": [
    "import random\n",
    "\n",
    "print(random.randint (0,9))"
   ]
  },
  {
   "cell_type": "code",
   "execution_count": 24,
   "id": "b07d7cbc-27f0-4d5b-a7f7-012992d9c506",
   "metadata": {},
   "outputs": [
    {
     "name": "stdin",
     "output_type": "stream",
     "text": [
      "Enter value in kilometers: 3.5\n"
     ]
    },
    {
     "name": "stdout",
     "output_type": "stream",
     "text": [
      "3.50 kilometers is equal to 2.17 miles\n"
     ]
    }
   ],
   "source": [
    "kilometers = float(input(\"Enter value in kilometers:\"))\n",
    "\n",
    "conv_fac = 0.621371\n",
    "\n",
    "miles = kilometers *conv_fac\n",
    "\n",
    "print('%0.2f kilometers is equal to %0.2f miles' %(kilometers,miles))"
   ]
  },
  {
   "cell_type": "code",
   "execution_count": 32,
   "id": "5b19b4e7-566c-4aa5-8912-98e13dc339a5",
   "metadata": {},
   "outputs": [
    {
     "name": "stdin",
     "output_type": "stream",
     "text": [
      "Enter value in miles: 2.17\n"
     ]
    },
    {
     "name": "stdout",
     "output_type": "stream",
     "text": [
      "3.49 kilometers is equal to 2.17 miles\n"
     ]
    }
   ],
   "source": [
    "miles = float(input(\"Enter value in miles:\"))\n",
    "\n",
    "conv_fac = 0.621371\n",
    "\n",
    "kilometers = miles / conv_fac\n",
    "\n",
    "print('%0.2f kilometers is equal to %0.2f miles' %(kilometers, miles))\n"
   ]
  },
  {
   "cell_type": "code",
   "execution_count": 40,
   "id": "3c89f540-646c-44d3-8f3e-803254c59165",
   "metadata": {},
   "outputs": [
    {
     "name": "stdin",
     "output_type": "stream",
     "text": [
      "Enter value in fahrenheit: 35\n"
     ]
    },
    {
     "name": "stdout",
     "output_type": "stream",
     "text": [
      "1.7 celsius is equal to 35.0 fahrenheit\n"
     ]
    }
   ],
   "source": [
    "fahrenheit = float(input(\"Enter value in fahrenheit:\"))\n",
    "\n",
    "conv_fac = 1.8\n",
    "\n",
    "celsius = (fahrenheit-32)/conv_fac\n",
    "\n",
    "print('%0.1f celsius is equal to %0.1f fahrenheit' %(celsius, fahrenheit))"
   ]
  },
  {
   "cell_type": "code",
   "execution_count": 42,
   "id": "17fec19a-ea35-4409-acb0-5971fd07340b",
   "metadata": {},
   "outputs": [
    {
     "name": "stdin",
     "output_type": "stream",
     "text": [
      "Enter a number: -8\n"
     ]
    },
    {
     "name": "stdout",
     "output_type": "stream",
     "text": [
      "Negative number\n"
     ]
    }
   ],
   "source": [
    "num = float(input(\"Enter a number:\"))\n",
    "if num > 0:\n",
    "    print(\"Positive number\")\n",
    "\n",
    "elif num == 0:\n",
    "    print(\"Zero\")\n",
    "\n",
    "else:\n",
    "    print(\"Negative number\")"
   ]
  },
  {
   "cell_type": "code",
   "execution_count": 44,
   "id": "5f2a682c-e916-41d4-93b5-92ad18ef2616",
   "metadata": {},
   "outputs": [
    {
     "name": "stdin",
     "output_type": "stream",
     "text": [
      "Enter a number: 398\n"
     ]
    },
    {
     "name": "stdout",
     "output_type": "stream",
     "text": [
      "398.0 is Even\n"
     ]
    }
   ],
   "source": [
    "num = float(input(\"Enter a number:\"))\n",
    "if (num % 2) == 0:\n",
    "    print(\"{0} is Even\". format(num))\n",
    "\n",
    "else:\n",
    "    print(\"{0} is Odd\". format(num))\n",
    "    "
   ]
  },
  {
   "cell_type": "code",
   "execution_count": 46,
   "id": "c25d2f6a-69f6-482f-8477-64847075c62e",
   "metadata": {},
   "outputs": [
    {
     "name": "stdin",
     "output_type": "stream",
     "text": [
      "Enter first number 56\n",
      "Enter second number 34\n",
      "Enter third number 79\n"
     ]
    },
    {
     "name": "stdout",
     "output_type": "stream",
     "text": [
      "The largest number is 79.0\n"
     ]
    }
   ],
   "source": [
    "num1 = float(input(\"Enter first number\"))\n",
    "num2 = float(input(\"Enter second number\"))\n",
    "num3 = float(input(\"Enter third number\"))\n",
    "\n",
    "if(num1>= num2) and (num1 >= num3):\n",
    "    largest = num1\n",
    "\n",
    "elif (num2 >= num1) and (num2 >= num3):\n",
    "    largest = num2\n",
    "\n",
    "else:\n",
    "    largest = num3\n",
    "\n",
    "print(\"The largest number is\", largest)"
   ]
  },
  {
   "cell_type": "code",
   "execution_count": null,
   "id": "842fac64-7692-47d4-a7fd-d9696f9ecb20",
   "metadata": {},
   "outputs": [],
   "source": []
  }
 ],
 "metadata": {
  "kernelspec": {
   "display_name": "Python 3 (ipykernel)",
   "language": "python",
   "name": "python3"
  },
  "language_info": {
   "codemirror_mode": {
    "name": "ipython",
    "version": 3
   },
   "file_extension": ".py",
   "mimetype": "text/x-python",
   "name": "python",
   "nbconvert_exporter": "python",
   "pygments_lexer": "ipython3",
   "version": "3.11.7"
  }
 },
 "nbformat": 4,
 "nbformat_minor": 5
}
